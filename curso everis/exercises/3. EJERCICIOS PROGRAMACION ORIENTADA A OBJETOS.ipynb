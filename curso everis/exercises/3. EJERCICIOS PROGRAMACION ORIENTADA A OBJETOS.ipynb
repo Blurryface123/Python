{
 "cells": [
  {
   "cell_type": "markdown",
   "metadata": {},
   "source": [
    "# Herencia"
   ]
  },
  {
   "cell_type": "markdown",
   "metadata": {},
   "source": [
    " **Crea una clase persona**\n",
    "\n",
    " ** Debe inicializarse con los argumentos nombre y apellido. Además deberá contar con un método que concatene ambos strings en uno solo con un espacio en medio**\n"
   ]
  },
  {
   "cell_type": "code",
   "execution_count": 7,
   "metadata": {},
   "outputs": [],
   "source": [
    "class persona(object):\n",
    "    \n",
    "    def __init__(self,nombre='',apellido=''):\n",
    "        self.nombre=nombre\n",
    "        self.apellido=apellido\n",
    "        \n",
    "    def nombre_entero(self):\n",
    "        return(self.nombre+' '+self.apellido)\n",
    "        "
   ]
  },
  {
   "cell_type": "code",
   "execution_count": 8,
   "metadata": {},
   "outputs": [
    {
     "data": {
      "text/plain": [
       "'Adrián Delgado'"
      ]
     },
     "execution_count": 8,
     "metadata": {},
     "output_type": "execute_result"
    }
   ],
   "source": [
    "yo=persona('Adrián','Delgado')\n",
    "yo.nombre_entero()"
   ]
  },
  {
   "cell_type": "markdown",
   "metadata": {},
   "source": [
    " **Crea una clase empleado que extienda a la clase persona**\n",
    "\n",
    " ** Además de con nombre y apellido debe contar con un argumento número de empleado. Deberá contar con un método presentacion() que devuelva como resultado:**\n",
    "    \n",
    "    'Hola mi nombre es '+ (nombre con apellidos) +' y mi número de empleado es '+(número de empleado)"
   ]
  },
  {
   "cell_type": "code",
   "execution_count": 9,
   "metadata": {},
   "outputs": [],
   "source": [
    "class empleado(persona):\n",
    "    \n",
    "    def __init__(self,nombre='',apellido='',emp_id=0):\n",
    "        persona.__init__(self,nombre,apellido)\n",
    "        self.id=emp_id\n",
    "    def presentacion(self):\n",
    "        return('Hola mi nombre es '+self.nombre_entero()+' y mi número de empleado es '+str(self.id))"
   ]
  },
  {
   "cell_type": "code",
   "execution_count": 10,
   "metadata": {},
   "outputs": [
    {
     "data": {
      "text/plain": [
       "'Hola mi nombre es adrian delgado y mi número de empleado es 26'"
      ]
     },
     "execution_count": 10,
     "metadata": {},
     "output_type": "execute_result"
    }
   ],
   "source": [
    "new_yo=empleado('adrian','delgado',26)\n",
    "new_yo.presentacion()"
   ]
  },
  {
   "cell_type": "code",
   "execution_count": 11,
   "metadata": {},
   "outputs": [
    {
     "data": {
      "text/plain": [
       "'adrian delgado'"
      ]
     },
     "execution_count": 11,
     "metadata": {},
     "output_type": "execute_result"
    }
   ],
   "source": [
    "new_yo.nombre_entero()"
   ]
  },
  {
   "cell_type": "markdown",
   "metadata": {
    "collapsed": true
   },
   "source": [
    "# Polimorfismo"
   ]
  },
  {
   "cell_type": "markdown",
   "metadata": {},
   "source": [
    "Extiende la clase persona a:\n",
    ">Una clase futbolista que cuente con el método anotar que imprima por pantalla '¡Gol!'\n",
    "\n",
    ">Una clase jugador de baloncesto, también con el método anotar, pero que imprima '¡Canasta!'\n",
    "\n",
    "Comprueba que ambas muestran un comportamiento distinto al mismo método."
   ]
  },
  {
   "cell_type": "code",
   "execution_count": 13,
   "metadata": {},
   "outputs": [],
   "source": [
    "class futbolista(persona):\n",
    "    def __init__(self,nombre,apellido):\n",
    "        persona.__init__(self,nombre,apellido)\n",
    "    def anotar(self):\n",
    "        print('¡Gol!')\n",
    "\n",
    "class basket(persona):\n",
    "    def __init__(self,nombre,apellido):\n",
    "        persona.__init__(self,nombre,apellido)\n",
    "    def anotar(self):\n",
    "        print('¡Canasta!')\n"
   ]
  },
  {
   "cell_type": "code",
   "execution_count": 14,
   "metadata": {},
   "outputs": [
    {
     "name": "stdout",
     "output_type": "stream",
     "text": [
      "¡Gol!\n"
     ]
    }
   ],
   "source": [
    "leo=futbolista('Leo','Messi')\n",
    "leo.anotar()"
   ]
  },
  {
   "cell_type": "code",
   "execution_count": 15,
   "metadata": {},
   "outputs": [
    {
     "name": "stdout",
     "output_type": "stream",
     "text": [
      "¡Canasta!\n"
     ]
    }
   ],
   "source": [
    "pau=basket('Pau','Gasol')\n",
    "pau.anotar()"
   ]
  },
  {
   "cell_type": "code",
   "execution_count": 17,
   "metadata": {},
   "outputs": [
    {
     "data": {
      "text/plain": [
       "'Leo Messi'"
      ]
     },
     "execution_count": 17,
     "metadata": {},
     "output_type": "execute_result"
    }
   ],
   "source": [
    "leo.nombre_entero()"
   ]
  },
  {
   "cell_type": "code",
   "execution_count": 18,
   "metadata": {},
   "outputs": [
    {
     "data": {
      "text/plain": [
       "'Pau Gasol'"
      ]
     },
     "execution_count": 18,
     "metadata": {},
     "output_type": "execute_result"
    }
   ],
   "source": [
    "pau.nombre_entero()"
   ]
  },
  {
   "cell_type": "code",
   "execution_count": null,
   "metadata": {},
   "outputs": [],
   "source": []
  }
 ],
 "metadata": {
  "anaconda-cloud": {},
  "kernelspec": {
   "display_name": "Python 3",
   "language": "python",
   "name": "python3"
  },
  "language_info": {
   "codemirror_mode": {
    "name": "ipython",
    "version": 3
   },
   "file_extension": ".py",
   "mimetype": "text/x-python",
   "name": "python",
   "nbconvert_exporter": "python",
   "pygments_lexer": "ipython3",
   "version": "3.6.8"
  }
 },
 "nbformat": 4,
 "nbformat_minor": 2
}
