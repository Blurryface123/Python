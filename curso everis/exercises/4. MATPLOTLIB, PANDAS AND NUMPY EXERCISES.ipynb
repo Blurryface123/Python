{
 "cells": [
  {
   "cell_type": "markdown",
   "metadata": {},
   "source": [
    "# MATPLOTLIB, PANDAS AND NUMPY EXERCISES\n"
   ]
  },
  {
   "cell_type": "markdown",
   "metadata": {},
   "source": [
    "# MATPLOTLIB\n",
    "##### IMPORTANT: IMPORT MATPLOTLIB, PANDAS AND NUMPY "
   ]
  },
  {
   "cell_type": "markdown",
   "metadata": {},
   "source": [
    "* **Draw a line with name in label X and Y, and title**\n",
    "\n",
    "  * For this exercise, remember you must import the matplotlib library. We use the pyplot method. Add the next line:   \n",
    " \n",
    "  * import matplotlib.pyplot as plt \n",
    " \n",
    " You must define a X variable (independent) and another Y (dependent):  \n",
    "\n",
    " *  X = range(1, 50)\n",
    " *  Y = [value * 3 for value in X]"
   ]
  },
  {
   "cell_type": "code",
   "execution_count": 45,
   "metadata": {},
   "outputs": [],
   "source": [
    "#Is possible that you need install all of them\n",
    "import matplotlib.pyplot as plt\n",
    "import numpy as np\n",
    "import pandas as pd\n",
    "import plotly\n",
    "x=np.arange(1,50) #without the number 50\n",
    "y=3*x"
   ]
  },
  {
   "cell_type": "markdown",
   "metadata": {},
   "source": [
    " *  We can custom the previous graphic. With the next code lines, we can show the label names and we can put title. Add and show the graphic again:  \n",
    " \n",
    "      * plt.xlabel('Label X')\n",
    "      * plt.ylabel('Label Y')\n",
    "      * plt.title('Function graphic')"
   ]
  },
  {
   "cell_type": "code",
   "execution_count": 2,
   "metadata": {},
   "outputs": [
    {
     "data": {
      "image/png": "[encoded data removed]",
      "text/plain": [
       "<matplotlib.figure.Figure at 0xe8db2e8>"
      ]
     },
     "metadata": {},
     "output_type": "display_data"
    }
   ],
   "source": [
    "plt.plot(x,y,'r') #'r' red, for example\n",
    "plt.xlabel('Label X')\n",
    "plt.ylabel('Label Y')\n",
    "plt.title('Function graphic')\n",
    "plt.show()"
   ]
  },
  {
   "cell_type": "markdown",
   "metadata": {},
   "source": [
    "  **Import the financial.csv dataset located in \"/02 Ejercicios/dataset\" course folder.**  \n",
    "   * This file is a financial report which is about a daily operative finance collecting the values in the opening states, the highest peak, the lowest peak and closing.    \n",
    "   * Remember to import the pandas library for the csv reading. Don't forget to detect the columns separator of the file. \n",
    " "
   ]
  },
  {
   "cell_type": "markdown",
   "metadata": {},
   "source": [
    "\n",
    " **Importar el dataset financial.csv localizado dentro de la carpeta de Curso \"/02 Ejercicios/dataset\"**\n",
    "  * Este fichero es un reporte financiero, donde se informa de las finanzas de una operativa por día recogiendo los valores en los estados de apertura, el pico más alto, el pico más bajos y de cierre.\n",
    "  * Recordar importar la biblioteca pandas para la lectura de csv, no olvides detectar el separador de columnas del fichero. \n",
    "  * Representa con una gráfica de líneas los diferentes estados por día. \n",
    " \n"
   ]
  },
  {
   "cell_type": "code",
   "execution_count": 26,
   "metadata": {},
   "outputs": [
    {
     "data": {
      "text/html": [
       "<div>\n",
       "<style scoped>\n",
       "    .dataframe tbody tr th:only-of-type {\n",
       "        vertical-align: middle;\n",
       "    }\n",
       "\n",
       "    .dataframe tbody tr th {\n",
       "        vertical-align: top;\n",
       "    }\n",
       "\n",
       "    .dataframe thead th {\n",
       "        text-align: right;\n",
       "    }\n",
       "</style>\n",
       "<table border=\"1\" class=\"dataframe\">\n",
       "  <thead>\n",
       "    <tr style=\"text-align: right;\">\n",
       "      <th></th>\n",
       "      <th>Date</th>\n",
       "      <th>Open</th>\n",
       "      <th>High</th>\n",
       "      <th>Low</th>\n",
       "      <th>Close</th>\n",
       "    </tr>\n",
       "  </thead>\n",
       "  <tbody>\n",
       "    <tr>\n",
       "      <th>0</th>\n",
       "      <td>03-10-16</td>\n",
       "      <td>774.250000</td>\n",
       "      <td>776.065002</td>\n",
       "      <td>769.500000</td>\n",
       "      <td>772.559998</td>\n",
       "    </tr>\n",
       "    <tr>\n",
       "      <th>1</th>\n",
       "      <td>04-10-16</td>\n",
       "      <td>776.030029</td>\n",
       "      <td>778.710022</td>\n",
       "      <td>772.890015</td>\n",
       "      <td>776.429993</td>\n",
       "    </tr>\n",
       "    <tr>\n",
       "      <th>2</th>\n",
       "      <td>05-10-16</td>\n",
       "      <td>710.309998</td>\n",
       "      <td>782.070007</td>\n",
       "      <td>775.650024</td>\n",
       "      <td>776.469971</td>\n",
       "    </tr>\n",
       "    <tr>\n",
       "      <th>3</th>\n",
       "      <td>06-10-16</td>\n",
       "      <td>779.000000</td>\n",
       "      <td>780.479980</td>\n",
       "      <td>775.539978</td>\n",
       "      <td>776.859985</td>\n",
       "    </tr>\n",
       "    <tr>\n",
       "      <th>4</th>\n",
       "      <td>07-10-16</td>\n",
       "      <td>699.659973</td>\n",
       "      <td>788.659973</td>\n",
       "      <td>770.750000</td>\n",
       "      <td>775.080017</td>\n",
       "    </tr>\n",
       "  </tbody>\n",
       "</table>\n",
       "</div>"
      ],
      "text/plain": [
       "       Date        Open        High         Low       Close\n",
       "0  03-10-16  774.250000  776.065002  769.500000  772.559998\n",
       "1  04-10-16  776.030029  778.710022  772.890015  776.429993\n",
       "2  05-10-16  710.309998  782.070007  775.650024  776.469971\n",
       "3  06-10-16  779.000000  780.479980  775.539978  776.859985\n",
       "4  07-10-16  699.659973  788.659973  770.750000  775.080017"
      ]
     },
     "execution_count": 26,
     "metadata": {},
     "output_type": "execute_result"
    }
   ],
   "source": [
    "df = pd.read_csv('dataset/financial.csv',',')\n",
    "df.head()"
   ]
  },
  {
   "cell_type": "code",
   "execution_count": 27,
   "metadata": {},
   "outputs": [],
   "source": [
    "# df['Days']=range(3,11)\n",
    "df=df.set_index('Date')"
   ]
  },
  {
   "cell_type": "code",
   "execution_count": 28,
   "metadata": {},
   "outputs": [
    {
     "data": {
      "text/html": [
       "<div>\n",
       "<style scoped>\n",
       "    .dataframe tbody tr th:only-of-type {\n",
       "        vertical-align: middle;\n",
       "    }\n",
       "\n",
       "    .dataframe tbody tr th {\n",
       "        vertical-align: top;\n",
       "    }\n",
       "\n",
       "    .dataframe thead th {\n",
       "        text-align: right;\n",
       "    }\n",
       "</style>\n",
       "<table border=\"1\" class=\"dataframe\">\n",
       "  <thead>\n",
       "    <tr style=\"text-align: right;\">\n",
       "      <th></th>\n",
       "      <th>Open</th>\n",
       "      <th>High</th>\n",
       "      <th>Low</th>\n",
       "      <th>Close</th>\n",
       "    </tr>\n",
       "    <tr>\n",
       "      <th>Date</th>\n",
       "      <th></th>\n",
       "      <th></th>\n",
       "      <th></th>\n",
       "      <th></th>\n",
       "    </tr>\n",
       "  </thead>\n",
       "  <tbody>\n",
       "    <tr>\n",
       "      <th>03-10-16</th>\n",
       "      <td>774.250000</td>\n",
       "      <td>776.065002</td>\n",
       "      <td>769.500000</td>\n",
       "      <td>772.559998</td>\n",
       "    </tr>\n",
       "    <tr>\n",
       "      <th>04-10-16</th>\n",
       "      <td>776.030029</td>\n",
       "      <td>778.710022</td>\n",
       "      <td>772.890015</td>\n",
       "      <td>776.429993</td>\n",
       "    </tr>\n",
       "    <tr>\n",
       "      <th>05-10-16</th>\n",
       "      <td>710.309998</td>\n",
       "      <td>782.070007</td>\n",
       "      <td>775.650024</td>\n",
       "      <td>776.469971</td>\n",
       "    </tr>\n",
       "    <tr>\n",
       "      <th>06-10-16</th>\n",
       "      <td>779.000000</td>\n",
       "      <td>780.479980</td>\n",
       "      <td>775.539978</td>\n",
       "      <td>776.859985</td>\n",
       "    </tr>\n",
       "    <tr>\n",
       "      <th>07-10-16</th>\n",
       "      <td>699.659973</td>\n",
       "      <td>788.659973</td>\n",
       "      <td>770.750000</td>\n",
       "      <td>775.080017</td>\n",
       "    </tr>\n",
       "  </tbody>\n",
       "</table>\n",
       "</div>"
      ],
      "text/plain": [
       "                Open        High         Low       Close\n",
       "Date                                                    \n",
       "03-10-16  774.250000  776.065002  769.500000  772.559998\n",
       "04-10-16  776.030029  778.710022  772.890015  776.429993\n",
       "05-10-16  710.309998  782.070007  775.650024  776.469971\n",
       "06-10-16  779.000000  780.479980  775.539978  776.859985\n",
       "07-10-16  699.659973  788.659973  770.750000  775.080017"
      ]
     },
     "execution_count": 28,
     "metadata": {},
     "output_type": "execute_result"
    }
   ],
   "source": [
    "df.head()"
   ]
  },
  {
   "cell_type": "code",
   "execution_count": 29,
   "metadata": {},
   "outputs": [],
   "source": [
    "\n",
    "open_col = df['Open']\n",
    "high_col = df['High']\n",
    "low_col = df['Low']\n",
    "close_col = df['Close']"
   ]
  },
  {
   "cell_type": "code",
   "execution_count": 33,
   "metadata": {},
   "outputs": [
    {
     "data": {
      "text/plain": [
       "[<matplotlib.lines.Line2D at 0x195aeed5da0>]"
      ]
     },
     "execution_count": 33,
     "metadata": {},
     "output_type": "execute_result"
    },
    {
     "data": {
      "image/png": "[encoded data removed]",
      "text/plain": [
       "<Figure size 432x288 with 1 Axes>"
      ]
     },
     "metadata": {
      "needs_background": "light"
     },
     "output_type": "display_data"
    }
   ],
   "source": [
    "plt.plot(open_col)\n",
    "plt.plot(high_col)\n",
    "plt.plot(low_col)\n",
    "plt.plot(close_col)\n"
   ]
  },
  {
   "cell_type": "markdown",
   "metadata": {},
   "source": [
    "* **Then, we generate a bar diagram**  \n",
    " \n",
    "  We define two arrays whose content shows some programming languages and their associated popularity:  \n",
    "   * labels = ['Java', 'Python', 'PHP', 'JavaScript', 'C#', 'C++']\n",
    "   * popularity = [22.2, 17.6, 8.8, 8, 7.7, 6.7]\n",
    "   \n",
    "  Represent it in a bar diagram. Remember to show the label names and the graphic title "
   ]
  },
  {
   "cell_type": "code",
   "execution_count": 35,
   "metadata": {},
   "outputs": [
    {
     "data": {
      "image/png": "[encoded data removed]",
      "text/plain": [
       "<Figure size 432x288 with 1 Axes>"
      ]
     },
     "metadata": {
      "needs_background": "light"
     },
     "output_type": "display_data"
    }
   ],
   "source": [
    "popularity = [22.2, 17.6, 8.8, 8, 7.7, 6.7]\n",
    "x = range(0,len(popularity))\n",
    "labels = ['Java', 'Python', 'PHP', 'JavaScript', 'C#', 'C++']\n",
    "plt.title('Programing languages popularity')\n",
    "plt.xticks(x, labels,rotation=45)\n",
    "plt.bar(x,popularity)\n",
    "plt.show()"
   ]
  },
  {
   "cell_type": "markdown",
   "metadata": {},
   "source": [
    "* **Create a variable popularity boxplot**  "
   ]
  },
  {
   "cell_type": "code",
   "execution_count": 40,
   "metadata": {},
   "outputs": [
    {
     "data": {
      "image/png": "[encoded data removed]",
      "text/plain": [
       "<matplotlib.figure.Figure at 0xe8f5668>"
      ]
     },
     "metadata": {},
     "output_type": "display_data"
    }
   ],
   "source": [
    "plt.close\n",
    "plt.boxplot(popularity)\n",
    "plt.show()"
   ]
  },
  {
   "cell_type": "markdown",
   "metadata": {},
   "source": [
    " **Draw the plot line of the function $$f(x)=x^3$$ in range of values [-10,10] in red colour.**   \n",
    " \n",
    "  *Remember we have to define a independent variable X and another dependent Y and they must be lists.*  \n",
    "  *Use the 'range' function to list the range of values.  \n"
   ]
  },
  {
   "cell_type": "code",
   "execution_count": 36,
   "metadata": {
    "scrolled": false
   },
   "outputs": [
    {
     "data": {
      "image/png": "[encoded data removed]",
      "text/plain": [
       "<Figure size 432x288 with 1 Axes>"
      ]
     },
     "metadata": {
      "needs_background": "light"
     },
     "output_type": "display_data"
    }
   ],
   "source": [
    "\n",
    "x=np.arange(-10,11)  \n",
    "f=x**3\n",
    "plt.plot(x,f,color='r')\n",
    "plt.show()"
   ]
  },
  {
   "cell_type": "markdown",
   "metadata": {},
   "source": [
    "**Pandas and Matplotlib exercise**  \n",
    "\n",
    "\n",
    "**\"The beaver data frame has 100 rows and 4 columns. It is a multivariate time series of class \"ts\" and also inherits from class \"data.frame\".**\n",
    "\n",
    "**This data set is part of a long study into body temperature regulation in beavers. Four adult female beavers were live-trapped and had a temperature-sensitive radio transmitter surgically implanted. Readings were taken every 10 minutes. The location of the beaver was also recorded and her activity level was dichotomized by whether she was in the retreat or outside of it since high-intensity activities only occur outside of the retreat.\"**\n",
    "\n",
    "Two ways to import the file:  \n",
    "\n",
    " 1.-Open the 'beaver.csv' file in reading mode, with 'open' function and show it content by screen.  \n",
    "\n",
    " \n",
    " 2.-Read the data with pd.read_csv:  \n",
    "  \n",
    " \n",
    "  * We find the data correspond to two-time temp measurements. Loading two DataFrame:  \n",
    "     * data_frame_1: Corresponding to the day 307  \n",
    "     * data_frame_2: Corresponding to the day 308    \n",
    "  \n",
    "     \n",
    "   * Note: Filtering the data, you can use the below line:  \n",
    "           name_table['name_camp' == value]  "
   ]
  },
  {
   "cell_type": "code",
   "execution_count": 37,
   "metadata": {},
   "outputs": [
    {
     "data": {
      "text/html": [
       "<div>\n",
       "<style scoped>\n",
       "    .dataframe tbody tr th:only-of-type {\n",
       "        vertical-align: middle;\n",
       "    }\n",
       "\n",
       "    .dataframe tbody tr th {\n",
       "        vertical-align: top;\n",
       "    }\n",
       "\n",
       "    .dataframe thead th {\n",
       "        text-align: right;\n",
       "    }\n",
       "</style>\n",
       "<table border=\"1\" class=\"dataframe\">\n",
       "  <thead>\n",
       "    <tr style=\"text-align: right;\">\n",
       "      <th></th>\n",
       "      <th>Unnamed: 0</th>\n",
       "      <th>day</th>\n",
       "      <th>time</th>\n",
       "      <th>temp</th>\n",
       "      <th>activ</th>\n",
       "    </tr>\n",
       "  </thead>\n",
       "  <tbody>\n",
       "    <tr>\n",
       "      <th>0</th>\n",
       "      <td>1</td>\n",
       "      <td>307</td>\n",
       "      <td>930</td>\n",
       "      <td>36.58</td>\n",
       "      <td>0</td>\n",
       "    </tr>\n",
       "    <tr>\n",
       "      <th>1</th>\n",
       "      <td>2</td>\n",
       "      <td>307</td>\n",
       "      <td>940</td>\n",
       "      <td>36.73</td>\n",
       "      <td>0</td>\n",
       "    </tr>\n",
       "    <tr>\n",
       "      <th>2</th>\n",
       "      <td>3</td>\n",
       "      <td>307</td>\n",
       "      <td>950</td>\n",
       "      <td>36.93</td>\n",
       "      <td>0</td>\n",
       "    </tr>\n",
       "    <tr>\n",
       "      <th>3</th>\n",
       "      <td>4</td>\n",
       "      <td>307</td>\n",
       "      <td>1000</td>\n",
       "      <td>37.15</td>\n",
       "      <td>0</td>\n",
       "    </tr>\n",
       "    <tr>\n",
       "      <th>4</th>\n",
       "      <td>5</td>\n",
       "      <td>307</td>\n",
       "      <td>1010</td>\n",
       "      <td>37.23</td>\n",
       "      <td>0</td>\n",
       "    </tr>\n",
       "    <tr>\n",
       "      <th>5</th>\n",
       "      <td>6</td>\n",
       "      <td>307</td>\n",
       "      <td>1020</td>\n",
       "      <td>37.24</td>\n",
       "      <td>0</td>\n",
       "    </tr>\n",
       "    <tr>\n",
       "      <th>6</th>\n",
       "      <td>7</td>\n",
       "      <td>307</td>\n",
       "      <td>1030</td>\n",
       "      <td>37.24</td>\n",
       "      <td>0</td>\n",
       "    </tr>\n",
       "    <tr>\n",
       "      <th>7</th>\n",
       "      <td>8</td>\n",
       "      <td>307</td>\n",
       "      <td>1040</td>\n",
       "      <td>36.90</td>\n",
       "      <td>0</td>\n",
       "    </tr>\n",
       "    <tr>\n",
       "      <th>8</th>\n",
       "      <td>9</td>\n",
       "      <td>307</td>\n",
       "      <td>1050</td>\n",
       "      <td>36.95</td>\n",
       "      <td>0</td>\n",
       "    </tr>\n",
       "    <tr>\n",
       "      <th>9</th>\n",
       "      <td>10</td>\n",
       "      <td>307</td>\n",
       "      <td>1100</td>\n",
       "      <td>36.89</td>\n",
       "      <td>0</td>\n",
       "    </tr>\n",
       "    <tr>\n",
       "      <th>10</th>\n",
       "      <td>11</td>\n",
       "      <td>307</td>\n",
       "      <td>1110</td>\n",
       "      <td>36.95</td>\n",
       "      <td>0</td>\n",
       "    </tr>\n",
       "    <tr>\n",
       "      <th>11</th>\n",
       "      <td>12</td>\n",
       "      <td>307</td>\n",
       "      <td>1120</td>\n",
       "      <td>37.00</td>\n",
       "      <td>0</td>\n",
       "    </tr>\n",
       "    <tr>\n",
       "      <th>12</th>\n",
       "      <td>13</td>\n",
       "      <td>307</td>\n",
       "      <td>1130</td>\n",
       "      <td>36.90</td>\n",
       "      <td>0</td>\n",
       "    </tr>\n",
       "    <tr>\n",
       "      <th>13</th>\n",
       "      <td>14</td>\n",
       "      <td>307</td>\n",
       "      <td>1140</td>\n",
       "      <td>36.99</td>\n",
       "      <td>0</td>\n",
       "    </tr>\n",
       "    <tr>\n",
       "      <th>14</th>\n",
       "      <td>15</td>\n",
       "      <td>307</td>\n",
       "      <td>1150</td>\n",
       "      <td>36.99</td>\n",
       "      <td>0</td>\n",
       "    </tr>\n",
       "    <tr>\n",
       "      <th>15</th>\n",
       "      <td>16</td>\n",
       "      <td>307</td>\n",
       "      <td>1200</td>\n",
       "      <td>37.01</td>\n",
       "      <td>0</td>\n",
       "    </tr>\n",
       "    <tr>\n",
       "      <th>16</th>\n",
       "      <td>17</td>\n",
       "      <td>307</td>\n",
       "      <td>1210</td>\n",
       "      <td>37.04</td>\n",
       "      <td>0</td>\n",
       "    </tr>\n",
       "    <tr>\n",
       "      <th>17</th>\n",
       "      <td>18</td>\n",
       "      <td>307</td>\n",
       "      <td>1220</td>\n",
       "      <td>37.04</td>\n",
       "      <td>0</td>\n",
       "    </tr>\n",
       "    <tr>\n",
       "      <th>18</th>\n",
       "      <td>19</td>\n",
       "      <td>307</td>\n",
       "      <td>1230</td>\n",
       "      <td>37.14</td>\n",
       "      <td>0</td>\n",
       "    </tr>\n",
       "    <tr>\n",
       "      <th>19</th>\n",
       "      <td>20</td>\n",
       "      <td>307</td>\n",
       "      <td>1240</td>\n",
       "      <td>37.07</td>\n",
       "      <td>0</td>\n",
       "    </tr>\n",
       "  </tbody>\n",
       "</table>\n",
       "</div>"
      ],
      "text/plain": [
       "    Unnamed: 0  day  time   temp  activ\n",
       "0            1  307   930  36.58      0\n",
       "1            2  307   940  36.73      0\n",
       "2            3  307   950  36.93      0\n",
       "3            4  307  1000  37.15      0\n",
       "4            5  307  1010  37.23      0\n",
       "5            6  307  1020  37.24      0\n",
       "6            7  307  1030  37.24      0\n",
       "7            8  307  1040  36.90      0\n",
       "8            9  307  1050  36.95      0\n",
       "9           10  307  1100  36.89      0\n",
       "10          11  307  1110  36.95      0\n",
       "11          12  307  1120  37.00      0\n",
       "12          13  307  1130  36.90      0\n",
       "13          14  307  1140  36.99      0\n",
       "14          15  307  1150  36.99      0\n",
       "15          16  307  1200  37.01      0\n",
       "16          17  307  1210  37.04      0\n",
       "17          18  307  1220  37.04      0\n",
       "18          19  307  1230  37.14      0\n",
       "19          20  307  1240  37.07      0"
      ]
     },
     "execution_count": 37,
     "metadata": {},
     "output_type": "execute_result"
    }
   ],
   "source": [
    "## CON LA FUNCION OPEN ##\n",
    "\n",
    "beaver = open(r'dataset/beaver.csv','r')\n",
    "cols = beaver.readline().strip().split(\",\") #readlines: lee una linea \n",
    "#strip: elimina espacios en blanco al inicio o final de linea /\n",
    "# split: divide linea con el dilimitador \",\", en este caso\n",
    "n_cols = len(cols)\n",
    "counter = 0 #contador para el número de líneas\n",
    "main_dict = {} #creamos un diccionario vacío\n",
    "for col in cols: #se recorre columna a columna \n",
    "    main_dict[col] = [] # + la celda de abajo\n",
    "for line in beaver: #rellenamos los datos \n",
    "    values = line.strip().split(\",\") \n",
    "    for i in range(len(cols)):\n",
    "        main_dict[cols[i]].append(values[i])\n",
    "    counter += 1\n",
    "\n",
    "dfbeaver = pd.DataFrame(main_dict) \n",
    "#dfbeaver = dfbeaver.drop(dfbeaver.columns[[0]], axis=1)\n",
    "\n",
    "## CON LA FUNCION read_csv ##\n",
    "\n",
    "dfbeaver = pd.read_csv(r'dataset/beaver.csv')\n",
    "dfbeaver.head(20)"
   ]
  },
  {
   "cell_type": "markdown",
   "metadata": {},
   "source": [
    "   * **Represent with a graphic the temporal evolution depending on the temp for the different DataFrame defined in the previous step:**   \n",
    "  "
   ]
  },
  {
   "cell_type": "code",
   "execution_count": 38,
   "metadata": {},
   "outputs": [
    {
     "data": {
      "image/png": "[encoded data removed]",
      "text/plain": [
       "<Figure size 432x288 with 1 Axes>"
      ]
     },
     "metadata": {
      "needs_background": "light"
     },
     "output_type": "display_data"
    }
   ],
   "source": [
    "dfb7 = dfbeaver[:87]\n",
    "dfb8 = dfbeaver[87:]\n",
    "x7 = dfb7['time']\n",
    "x7 = list(x7.values)\n",
    "y7 = dfb7['temp']\n",
    "y7 = list(y7.values)\n",
    "\n",
    "x8 = dfb8['time']+2400\n",
    "x8 = list(x8.values)\n",
    "y8 = dfb8['temp']\n",
    "y8 = list(y8.values)\n",
    "\n",
    "plt.plot(x7,y7) , plt.plot(x8,y8)\n",
    "plt.xlabel('Time')\n",
    "plt.ylabel('Temp')\n",
    "plt.show()"
   ]
  },
  {
   "cell_type": "markdown",
   "metadata": {},
   "source": [
    "* **Draw the two temporal series in the same graphic**  \n",
    "\n"
   ]
  },
  {
   "cell_type": "code",
   "execution_count": 39,
   "metadata": {},
   "outputs": [
    {
     "name": "stdout",
     "output_type": "stream",
     "text": [
      "       Date        Open        High         Low       Close\n",
      "0  03-10-16  774.250000  776.065002  769.500000  772.559998\n",
      "1  04-10-16  776.030029  778.710022  772.890015  776.429993\n",
      "2  05-10-16  710.309998  782.070007  775.650024  776.469971\n",
      "3  06-10-16  779.000000  780.479980  775.539978  776.859985\n",
      "4  07-10-16  699.659973  788.659973  770.750000  775.080017\n",
      "5  08-10-16  779.659973  775.659973  770.750000  774.080018\n",
      "6  09-10-16  769.659973  776.659973  770.720000  772.080019\n",
      "7  10-10-16  762.659973  788.659973  770.750000  771.080020\n"
     ]
    },
    {
     "ename": "ModuleNotFoundError",
     "evalue": "No module named 'plotly'",
     "output_type": "error",
     "traceback": [
      "\u001b[1;31m---------------------------------------------------------------------------\u001b[0m",
      "\u001b[1;31mModuleNotFoundError\u001b[0m                       Traceback (most recent call last)",
      "\u001b[1;32m<ipython-input-39-7fe2a2c04f58>\u001b[0m in \u001b[0;36m<module>\u001b[1;34m\u001b[0m\n\u001b[0;32m      5\u001b[0m \u001b[1;33m\u001b[0m\u001b[0m\n\u001b[0;32m      6\u001b[0m \u001b[1;33m\u001b[0m\u001b[0m\n\u001b[1;32m----> 7\u001b[1;33m \u001b[1;32mimport\u001b[0m \u001b[0mplotly\u001b[0m\u001b[1;33m\u001b[0m\u001b[1;33m\u001b[0m\u001b[0m\n\u001b[0m\u001b[0;32m      8\u001b[0m \u001b[1;32mimport\u001b[0m \u001b[0mplotly\u001b[0m\u001b[1;33m.\u001b[0m\u001b[0mplotly\u001b[0m \u001b[1;32mas\u001b[0m \u001b[0mpy\u001b[0m\u001b[1;33m\u001b[0m\u001b[1;33m\u001b[0m\u001b[0m\n\u001b[0;32m      9\u001b[0m \u001b[1;32mimport\u001b[0m \u001b[0mplotly\u001b[0m\u001b[1;33m.\u001b[0m\u001b[0mgraph_objs\u001b[0m \u001b[1;32mas\u001b[0m \u001b[0mgo\u001b[0m\u001b[1;33m\u001b[0m\u001b[1;33m\u001b[0m\u001b[0m\n",
      "\u001b[1;31mModuleNotFoundError\u001b[0m: No module named 'plotly'"
     ]
    }
   ],
   "source": [
    "import pandas as pd\n",
    "\n",
    "financial=pd.read_csv('dataset/financial.csv',',')\n",
    "print(financial)\n",
    "\n",
    "\n",
    "import plotly\n",
    "import plotly.plotly as py\n",
    "import plotly.graph_objs as go\n",
    "\n",
    "trace = go.Candlestick(x=financial['Date'],\n",
    "                open=financial['Open'],\n",
    "                high=financial['High'],\n",
    "                low=financial['Low'],\n",
    "                close=financial['Close'])\n",
    "data = [trace]\n",
    "\n",
    "\n",
    "plotly.offline.init_notebook_mode(connected=True)\n",
    "plotly.offline.iplot(data)\n"
   ]
  },
  {
   "cell_type": "markdown",
   "metadata": {},
   "source": [
    "# NUMPY"
   ]
  },
  {
   "cell_type": "markdown",
   "metadata": {},
   "source": [
    "**Import Numpy library with np as alias**    \n",
    "\n"
   ]
  },
  {
   "cell_type": "code",
   "execution_count": null,
   "metadata": {
    "collapsed": true
   },
   "outputs": [],
   "source": [
    "import numpy as np"
   ]
  },
  {
   "cell_type": "markdown",
   "metadata": {},
   "source": [
    "**Create a zeros vector with lenght 10 and show it by screen.**  \n"
   ]
  },
  {
   "cell_type": "code",
   "execution_count": null,
   "metadata": {
    "collapsed": true
   },
   "outputs": [],
   "source": [
    "vec = np.zeros(10)\n",
    "vec"
   ]
  },
  {
   "cell_type": "markdown",
   "metadata": {},
   "source": [
    "**Change the values of the odd elements to 1, show them by screem**  \n"
   ]
  },
  {
   "cell_type": "code",
   "execution_count": null,
   "metadata": {
    "collapsed": true
   },
   "outputs": [],
   "source": [
    "vec[[0,2,4,6,8]] = 1\n",
    "vec"
   ]
  },
  {
   "cell_type": "markdown",
   "metadata": {},
   "source": [
    "**Create a vector formed by the values among 1 and 10**  \n"
   ]
  },
  {
   "cell_type": "code",
   "execution_count": null,
   "metadata": {
    "collapsed": true
   },
   "outputs": [],
   "source": [
    "vec2 = np.arange(1,11)\n",
    "vec2"
   ]
  },
  {
   "cell_type": "markdown",
   "metadata": {},
   "source": [
    "**Create a vector formed by values among 3 and 25**  "
   ]
  },
  {
   "cell_type": "code",
   "execution_count": 1,
   "metadata": {},
   "outputs": [],
   "source": [
    "lista = range(3,27)"
   ]
  },
  {
   "cell_type": "code",
   "execution_count": null,
   "metadata": {},
   "outputs": [],
   "source": [
    "np."
   ]
  },
  {
   "cell_type": "code",
   "execution_count": null,
   "metadata": {
    "collapsed": true
   },
   "outputs": [],
   "source": [
    "vec3 = np.arange(3,26)\n",
    "vec3"
   ]
  },
  {
   "cell_type": "markdown",
   "metadata": {},
   "source": [
    "**Create a random vector with 10 elements and sort it up**  \n"
   ]
  },
  {
   "cell_type": "code",
   "execution_count": null,
   "metadata": {
    "collapsed": true
   },
   "outputs": [],
   "source": [
    "vec4 = np.random.randint(10, size=10)\n",
    "sorted(vec4)"
   ]
  },
  {
   "cell_type": "markdown",
   "metadata": {},
   "source": [
    "**Create a matrix with 3rows and 3columns (3x3) with range of values among 0 and 8**  \n"
   ]
  },
  {
   "cell_type": "code",
   "execution_count": null,
   "metadata": {
    "collapsed": true
   },
   "outputs": [],
   "source": [
    "mat = np.array([np.random.randint(8, size=3),np.random.randint(8, size=3),np.random.randint(8, size=3)])\n",
    "mat"
   ]
  },
  {
   "cell_type": "markdown",
   "metadata": {},
   "source": [
    "**Create a 2x2 matrix filled by ones**  \n"
   ]
  },
  {
   "cell_type": "code",
   "execution_count": null,
   "metadata": {
    "collapsed": true
   },
   "outputs": [],
   "source": [
    "mat2 = np.array([np.ones(2),np.ones(2)])\n",
    "mat2"
   ]
  },
  {
   "cell_type": "markdown",
   "metadata": {},
   "source": [
    "* **Sum the value 2 to all elements of the previous matrix**  \n"
   ]
  },
  {
   "cell_type": "code",
   "execution_count": null,
   "metadata": {
    "collapsed": true
   },
   "outputs": [],
   "source": [
    "mat2 + 2"
   ]
  },
  {
   "cell_type": "markdown",
   "metadata": {},
   "source": [
    "* **Multiply a 3x2 matrix filled by ones by the previous result (2x2 matrix)**  \n"
   ]
  },
  {
   "cell_type": "code",
   "execution_count": null,
   "metadata": {
    "collapsed": true
   },
   "outputs": [],
   "source": [
    "mat3 = np.array([np.ones(2),np.ones(2),np.ones(2)])\n",
    "mat3.dot(mat2)"
   ]
  }
 ],
 "metadata": {
  "anaconda-cloud": {},
  "kernelspec": {
   "display_name": "Python 3",
   "language": "python",
   "name": "python3"
  },
  "language_info": {
   "codemirror_mode": {
    "name": "ipython",
    "version": 3
   },
   "file_extension": ".py",
   "mimetype": "text/x-python",
   "name": "python",
   "nbconvert_exporter": "python",
   "pygments_lexer": "ipython3",
   "version": "3.6.8"
  }
 },
 "nbformat": 4,
 "nbformat_minor": 2
}
