{
 "cells": [
  {
   "cell_type": "markdown",
   "metadata": {},
   "source": [
    "# Herencia"
   ]
  },
  {
   "cell_type": "markdown",
   "metadata": {},
   "source": [
    " **Crea una clase persona**\n",
    "\n",
    " ** Debe inicializarse con los argumentos nombre y apellido. Además deberá contar con un método que concatene ambos strings en uno solo con un espacio en medio**\n"
   ]
  },
  {
   "cell_type": "code",
   "execution_count": 1,
   "metadata": {},
   "outputs": [],
   "source": [
    "class persona(object):\n",
    "    \n",
    "    def __init__(self,nombre='',apellido=''):\n",
    "        self.nombre= nombre\n",
    "        self.apellido = apellido\n",
    "        \n",
    "    def nombre_entero(self):\n",
    "        return(nombre+\" \"+apellido)\n",
    "        "
   ]
  },
  {
   "cell_type": "code",
   "execution_count": null,
   "metadata": {},
   "outputs": [],
   "source": [
    "yo=persona( )\n",
    "yo.nombre_entero()"
   ]
  },
  {
   "cell_type": "markdown",
   "metadata": {},
   "source": [
    " **Crea una clase empleado que extienda a la clase persona**\n",
    "\n",
    " ** Además del nombre y apellido debe contar con un argumento número de empleado. Deberá contar con un método presentacion() que devuelva como resultado:**\n",
    "    \n",
    "    'Hola mi nombre es '+ (nombre con apellidos) +' y mi número de empleado es '+(número de empleado)"
   ]
  },
  {
   "cell_type": "code",
   "execution_count": 70,
   "metadata": {},
   "outputs": [],
   "source": [
    "class empleado(persona):\n",
    "    \n",
    "    def __init__(self,nombre='',apellido='',emp_id=0):\n",
    "        \n",
    "        \n",
    "    def presentacion(self):\n",
    "        return( )"
   ]
  },
  {
   "cell_type": "code",
   "execution_count": null,
   "metadata": {},
   "outputs": [],
   "source": [
    "new_yo=empleado( )\n",
    "new_yo.presentacion()"
   ]
  },
  {
   "cell_type": "markdown",
   "metadata": {
    "collapsed": true
   },
   "source": [
    "# Polimorfismo"
   ]
  },
  {
   "cell_type": "markdown",
   "metadata": {},
   "source": [
    "Extiende la clase persona a:\n",
    ">Una clase futbolista que cuente con el método anotar que imprima por pantalla '¡Gol!'\n",
    "\n",
    ">Una clase jugador de baloncesto, también con el método anotar, pero que imprima '¡Canasta!'\n",
    "\n",
    "Comprueba que ambas muestran un comportamiento distinto al mismo método."
   ]
  },
  {
   "cell_type": "code",
   "execution_count": 81,
   "metadata": {
    "collapsed": true
   },
   "outputs": [],
   "source": [
    "class futbolista(persona):\n",
    "    def __init__(self,nombre,apellido):\n",
    "        \n",
    "    def anotar(self):\n",
    "        \n",
    "\n",
    "class basket(persona):\n",
    "    def __init__(self,nombre,apellido):\n",
    "        \n",
    "    def anotar(self):\n",
    "        \n"
   ]
  },
  {
   "cell_type": "code",
   "execution_count": null,
   "metadata": {},
   "outputs": [],
   "source": [
    "player_1=futbolista('Leo','Messi')\n",
    "player_1.anotar()"
   ]
  },
  {
   "cell_type": "code",
   "execution_count": null,
   "metadata": {},
   "outputs": [],
   "source": [
    "player_2=basket('Pau','Gasol')\n",
    "player_2.anotar()"
   ]
  },
  {
   "cell_type": "code",
   "execution_count": null,
   "metadata": {
    "collapsed": true
   },
   "outputs": [],
   "source": []
  }
 ],
 "metadata": {
  "kernelspec": {
   "display_name": "Python 3",
   "language": "python",
   "name": "python3"
  },
  "language_info": {
   "codemirror_mode": {
    "name": "ipython",
    "version": 3
   },
   "file_extension": ".py",
   "mimetype": "text/x-python",
   "name": "python",
   "nbconvert_exporter": "python",
   "pygments_lexer": "ipython3",
   "version": "3.7.3"
  }
 },
 "nbformat": 4,
 "nbformat_minor": 2
}
