{
 "cells": [
  {
   "cell_type": "markdown",
   "metadata": {},
   "source": [
    "# EJERCICIOS MATPLOTLIB Y NUMPY\n"
   ]
  },
  {
   "cell_type": "markdown",
   "metadata": {},
   "source": [
    "# MATPLOTLIB"
   ]
  },
  {
   "cell_type": "markdown",
   "metadata": {},
   "source": [
    "* **Dibuja una línea con nombre en el eje X e Y y un título **\n",
    "\n",
    " ** Para este ejecicio recuerda importar primero la biblioteca de matplotlib. Para estas gráficas utilizaremos el método pyplot. Añade la siguiente línea: **\n",
    "  \n",
    "  **import matplotlib.pyplot as plt **\n",
    " \n",
    " Debes de definir una variable X (independiente) y otra Y (dependiente):\n",
    " *  X = range(1, 50)\n",
    " *  Y = [value * 3 for value in X]"
   ]
  },
  {
   "cell_type": "code",
   "execution_count": null,
   "metadata": {
    "collapsed": true
   },
   "outputs": [],
   "source": [
    "import matplotlib.pyplot as plt\n",
    "\n"
   ]
  },
  {
   "cell_type": "markdown",
   "metadata": {},
   "source": [
    " *  Podemos personalizar la gráfica anterior. Con las siguientes líneas de código podemos mostrar los nombres de los ejes y poner un título. Añadelas y vuelve a mostrar la gráfica:  \n",
    "      * plt.xlabel('Eje X')\n",
    "      * plt.ylabel('Eje Y')\n",
    "      * plt.title('Gráfica de una función')"
   ]
  },
  {
   "cell_type": "code",
   "execution_count": null,
   "metadata": {
    "collapsed": true
   },
   "outputs": [],
   "source": []
  },
  {
   "cell_type": "markdown",
   "metadata": {},
   "source": [
    " **Importar el dataset financial.csv localizado dentro de la carpeta de Curso \"/02 Ejercicios/dataset\"**\n",
    "  * Este fichero es un reporte financiero, donde se informa de las finanzas de una operativa por día recogiendo los valores en los estados de apertura, el pico más alto, el pico más bajos y de cierre.\n",
    "  * Recordar importar la biblioteca pandas para la lectura de csv, no olvides detectar el separador de columnas del fichero. \n",
    "  * Representa con una gráfica de líneas los diferentes estados por día."
   ]
  },
  {
   "cell_type": "code",
   "execution_count": null,
   "metadata": {
    "collapsed": true
   },
   "outputs": [],
   "source": []
  },
  {
   "cell_type": "markdown",
   "metadata": {},
   "source": [
    "* **A continuación, generaremos un diagra de barras**\n",
    " \n",
    " ** Definimos dos arrays cuyo contenido muestra unos lenguajes de programación y su popularidad asociada:**\n",
    "   * labels = ['Java', 'Python', 'PHP', 'JavaScript', 'C#', 'C++']\n",
    "   * popularity = [22.2, 17.6, 8.8, 8, 7.7, 6.7]\n",
    "   \n",
    " ** Representalo en un diagrama de barras, recuerda mostrar los nombres de los ejes y un título de gráfica**"
   ]
  },
  {
   "cell_type": "code",
   "execution_count": null,
   "metadata": {
    "collapsed": true
   },
   "outputs": [],
   "source": []
  },
  {
   "cell_type": "markdown",
   "metadata": {},
   "source": [
    "* **Crea un Boxplot de la variable popularity**"
   ]
  },
  {
   "cell_type": "code",
   "execution_count": null,
   "metadata": {
    "collapsed": true
   },
   "outputs": [],
   "source": []
  },
  {
   "cell_type": "markdown",
   "metadata": {},
   "source": [
    "**Dibuja la gráfica de puntos de la función $$f(x)=x^3$$ en el rango de valores de [-10,10] de color rojo**\n",
    "  * Recuerda que tenemos que definir una variable independiente (X) y otra independiente (X) y deben ser listas. \n",
    "  * Utiliza la función range para enumerar el rango de valores."
   ]
  },
  {
   "cell_type": "code",
   "execution_count": null,
   "metadata": {
    "collapsed": true,
    "scrolled": true
   },
   "outputs": [],
   "source": []
  },
  {
   "cell_type": "markdown",
   "metadata": {},
   "source": [
    "**Ejercicio de Pandas y Matplotlib**\n",
    "\n",
    "**\"The beaver data frame has 100 rows and 4 columns. It is a multivariate time series of class \"ts\" and also inherits from class \"data.frame\".**\n",
    "\n",
    "**This data set is part of a long study into body temperature regulation in beavers. Four adult female beavers were live-trapped and had a temperature-sensitive radio transmitter surgically implanted. Readings were taken every 10 minutes. The location of the beaver was also recorded and her activity level was dichotomized by whether she was in the retreat or outside of it since high-intensity activities only occur outside of the retreat.\"**\n",
    "\n",
    "Dos formas de importar un fichero:\n",
    "\n",
    " 1.- Abre el archivo beaver.csv en modo lectura, con el función \"open\" y muestra el contenido por pantalla\n",
    " \n",
    " 2.- Leemos los datos con pd.read_csv:\n",
    "  * Observamos que los datos corresponden a mediciones de temperatura en dos días. Cargamos dos Dataframe: \n",
    "     * data_frame_1: correspondiente al día 307\n",
    "     * data_frame_2: correspondiente al día 308\n",
    "     \n",
    "   *Nota: Para filtrar los datos podéis hayudaros de la siguiente línea **nombre_Tabla['nombre_campo' == valor]**"
   ]
  },
  {
   "cell_type": "code",
   "execution_count": null,
   "metadata": {
    "collapsed": true
   },
   "outputs": [],
   "source": []
  },
  {
   "cell_type": "markdown",
   "metadata": {},
   "source": [
    "  * Representa con una gráfica de líneas la evolución temporal respecto de la temperatura para los diferentes dataframe definidos en el punto anterior: \n",
    "     "
   ]
  },
  {
   "cell_type": "markdown",
   "metadata": {},
   "source": []
  },
  {
   "cell_type": "markdown",
   "metadata": {},
   "source": [
    "* **Pintar las dos líneas temporales en una misma gráfica**\n"
   ]
  },
  {
   "cell_type": "code",
   "execution_count": null,
   "metadata": {
    "collapsed": true
   },
   "outputs": [],
   "source": []
  },
  {
   "cell_type": "markdown",
   "metadata": {},
   "source": [
    "# NUMPY"
   ]
  },
  {
   "cell_type": "markdown",
   "metadata": {},
   "source": [
    "**Importa la biblioteca Numpy y ponle el alias np**"
   ]
  },
  {
   "cell_type": "code",
   "execution_count": null,
   "metadata": {
    "collapsed": true
   },
   "outputs": [],
   "source": []
  },
  {
   "cell_type": "markdown",
   "metadata": {},
   "source": [
    "**Crea un vector de ceros de tamaño 10 y muestralo por pantalla.**"
   ]
  },
  {
   "cell_type": "code",
   "execution_count": null,
   "metadata": {
    "collapsed": true
   },
   "outputs": [],
   "source": []
  },
  {
   "cell_type": "markdown",
   "metadata": {},
   "source": [
    "** Cambia los valores de los elementos impares a 1, muestralo por pantalla**"
   ]
  },
  {
   "cell_type": "code",
   "execution_count": null,
   "metadata": {
    "collapsed": true
   },
   "outputs": [],
   "source": []
  },
  {
   "cell_type": "markdown",
   "metadata": {},
   "source": [
    "** Crea un vector formado por los valores entre el 1 y 10**"
   ]
  },
  {
   "cell_type": "code",
   "execution_count": null,
   "metadata": {
    "collapsed": true
   },
   "outputs": [],
   "source": []
  },
  {
   "cell_type": "markdown",
   "metadata": {},
   "source": [
    "** Crea un vector formado por los valores entre el 3 y 25***"
   ]
  },
  {
   "cell_type": "code",
   "execution_count": null,
   "metadata": {
    "collapsed": true
   },
   "outputs": [],
   "source": []
  },
  {
   "cell_type": "markdown",
   "metadata": {},
   "source": [
    "**Crea un vector aleatorio con 10 elementos y ordénalo**"
   ]
  },
  {
   "cell_type": "code",
   "execution_count": null,
   "metadata": {
    "collapsed": true
   },
   "outputs": [],
   "source": []
  },
  {
   "cell_type": "markdown",
   "metadata": {},
   "source": [
    "**Crea una matriz 3x3 (3 filas y 3 columnas) con rango de valores de 0 a 8**\n"
   ]
  },
  {
   "cell_type": "code",
   "execution_count": null,
   "metadata": {
    "collapsed": true
   },
   "outputs": [],
   "source": []
  },
  {
   "cell_type": "markdown",
   "metadata": {},
   "source": [
    "** Crea una matriz de 2x2 formada por unos **"
   ]
  },
  {
   "cell_type": "code",
   "execution_count": null,
   "metadata": {
    "collapsed": true
   },
   "outputs": [],
   "source": []
  },
  {
   "cell_type": "markdown",
   "metadata": {},
   "source": [
    "* ** A la matriz anterior sumale el valor 2 a todos los elementos **"
   ]
  },
  {
   "cell_type": "code",
   "execution_count": null,
   "metadata": {
    "collapsed": true
   },
   "outputs": [],
   "source": []
  },
  {
   "cell_type": "markdown",
   "metadata": {},
   "source": [
    "* ** A la matriz anterior sumale el valor 2 a todos los elementos **"
   ]
  },
  {
   "cell_type": "code",
   "execution_count": null,
   "metadata": {
    "collapsed": true
   },
   "outputs": [],
   "source": []
  },
  {
   "cell_type": "markdown",
   "metadata": {},
   "source": [
    "* ** Multiplica una matriz 3x2 formada por unos por el resultado de la matriz anterior 2x2 **"
   ]
  },
  {
   "cell_type": "code",
   "execution_count": null,
   "metadata": {
    "collapsed": true
   },
   "outputs": [],
   "source": []
  }
 ],
 "metadata": {
  "kernelspec": {
   "display_name": "Python 3",
   "language": "python",
   "name": "python3"
  },
  "language_info": {
   "codemirror_mode": {
    "name": "ipython",
    "version": 3
   },
   "file_extension": ".py",
   "mimetype": "text/x-python",
   "name": "python",
   "nbconvert_exporter": "python",
   "pygments_lexer": "ipython3",
   "version": "3.7.3"
  }
 },
 "nbformat": 4,
 "nbformat_minor": 2
}
