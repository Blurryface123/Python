{
 "cells": [
  {
   "cell_type": "markdown",
   "metadata": {},
   "source": [
    "# ESTRUCTURAS DE CONTROL, FUNCIONES Y CONTROL DE EXCEPCIONES"
   ]
  },
  {
   "cell_type": "markdown",
   "metadata": {},
   "source": [
    "**Trabajando con Estructuras de Control.**\n",
    "\n",
    "* **Con la sentencia *If* crea un comparador de dos números que  imprima por pantalla cuál es mayor o si son ambos iguales**\n",
    "* **Con un bucle *While* imprime los números del 1 al 5 ambos incluidos.**\n",
    "* **Con un bucle *for (in range)* imprime los números del 1 al 5 ambos incluidos**\n",
    "* **Itera la lista *colors=['red','green', 'white', 'blue', 'black']* e imprime sus elementos por pantalla**"
   ]
  },
  {
   "cell_type": "code",
   "execution_count": 1,
   "metadata": {},
   "outputs": [
    {
     "name": "stdout",
     "output_type": "stream",
     "text": [
      "Y ES MAYOR QUE X\n"
     ]
    }
   ],
   "source": [
    "def comparador(x,y):\n",
    "        if x > y:\n",
    "            print('X ES MAYOR QUE Y')\n",
    "        elif x < y :\n",
    "            print('Y ES MAYOR QUE X')\n",
    "        else:\n",
    "            print('X ES IGUAL QUE Y')\n",
    "    \n",
    "\n",
    "comparador(1,2)"
   ]
  },
  {
   "cell_type": "code",
   "execution_count": 3,
   "metadata": {},
   "outputs": [
    {
     "name": "stdout",
     "output_type": "stream",
     "text": [
      "1\n",
      "2\n",
      "3\n",
      "4\n",
      "5\n"
     ]
    }
   ],
   "source": [
    "x = 1\n",
    "while(x<6):\n",
    "    print(x)\n",
    "    x+=1"
   ]
  },
  {
   "cell_type": "code",
   "execution_count": 6,
   "metadata": {},
   "outputs": [
    {
     "name": "stdout",
     "output_type": "stream",
     "text": [
      "1\n",
      "2\n",
      "3\n",
      "4\n",
      "5\n"
     ]
    }
   ],
   "source": [
    "for x in range(1,6):\n",
    "    print(x)"
   ]
  },
  {
   "cell_type": "code",
   "execution_count": 76,
   "metadata": {},
   "outputs": [
    {
     "name": "stdout",
     "output_type": "stream",
     "text": [
      "red\tgreen\twhite\tblue\tblack\t"
     ]
    }
   ],
   "source": [
    "colors=['red','green', 'white', 'blue', 'black'] \n",
    "for x in colors:\n",
    "        print(x,end='\\t')"
   ]
  },
  {
   "cell_type": "markdown",
   "metadata": {},
   "source": [
    "**Trabajando con funciones**\n",
    "\n",
    "* **Crea una función llamada *imprime* que reciba dos parámetros e imprima los números enteros entre esos dos valores**"
   ]
  },
  {
   "cell_type": "code",
   "execution_count": 13,
   "metadata": {},
   "outputs": [
    {
     "name": "stdout",
     "output_type": "stream",
     "text": [
      "4\n",
      "5\n",
      "6\n",
      "7\n",
      "8\n"
     ]
    }
   ],
   "source": [
    "def imprime(x,y):\n",
    "    for z in range(x,y):\n",
    "        print(z)\n",
    "imprime(4,9)"
   ]
  },
  {
   "cell_type": "markdown",
   "metadata": {},
   "source": [
    "**Trabajando con funciones**\n",
    "\n",
    "* **Crea dos funciones llamadas mult y div que multipliquen y dividan dos números pasados como argumento respectivamente**\n"
   ]
  },
  {
   "cell_type": "code",
   "execution_count": 17,
   "metadata": {},
   "outputs": [
    {
     "data": {
      "text/plain": [
       "0.5"
      ]
     },
     "execution_count": 17,
     "metadata": {},
     "output_type": "execute_result"
    }
   ],
   "source": [
    "def mult(x,y):\n",
    "    return x*y\n",
    "def div(x,y):\n",
    "    return x/y\n",
    "mult(1,2)\n",
    "div(4,8)"
   ]
  },
  {
   "cell_type": "markdown",
   "metadata": {},
   "source": [
    "**Trabajando con funciones**\n",
    "\n",
    "* **Crea una función que se llame mult_div en la que se le pasen tres números como argumento; los dos primeros los multiplique y el resultado los divida con el tercer, utilizando las dos funciones anteriores. ¿Qué ocurre si calculamos mult_div(4,9,0)?**\n"
   ]
  },
  {
   "cell_type": "code",
   "execution_count": 20,
   "metadata": {},
   "outputs": [
    {
     "ename": "ZeroDivisionError",
     "evalue": "division by zero",
     "output_type": "error",
     "traceback": [
      "\u001b[1;31m---------------------------------------------------------------------------\u001b[0m",
      "\u001b[1;31mZeroDivisionError\u001b[0m                         Traceback (most recent call last)",
      "\u001b[1;32m<ipython-input-20-54dc3aae2f6d>\u001b[0m in \u001b[0;36m<module>\u001b[1;34m\u001b[0m\n\u001b[0;32m      2\u001b[0m     \u001b[0md\u001b[0m\u001b[1;33m=\u001b[0m \u001b[0ma\u001b[0m\u001b[1;33m*\u001b[0m\u001b[0mb\u001b[0m\u001b[1;33m\u001b[0m\u001b[1;33m\u001b[0m\u001b[0m\n\u001b[0;32m      3\u001b[0m     \u001b[1;32mreturn\u001b[0m \u001b[0md\u001b[0m\u001b[1;33m/\u001b[0m\u001b[0mc\u001b[0m\u001b[1;33m\u001b[0m\u001b[1;33m\u001b[0m\u001b[0m\n\u001b[1;32m----> 4\u001b[1;33m \u001b[0mmult_div\u001b[0m\u001b[1;33m(\u001b[0m\u001b[1;36m4\u001b[0m\u001b[1;33m,\u001b[0m\u001b[1;36m9\u001b[0m\u001b[1;33m,\u001b[0m\u001b[1;36m0\u001b[0m\u001b[1;33m)\u001b[0m\u001b[1;33m\u001b[0m\u001b[1;33m\u001b[0m\u001b[0m\n\u001b[0m",
      "\u001b[1;32m<ipython-input-20-54dc3aae2f6d>\u001b[0m in \u001b[0;36mmult_div\u001b[1;34m(a, b, c)\u001b[0m\n\u001b[0;32m      1\u001b[0m \u001b[1;32mdef\u001b[0m \u001b[0mmult_div\u001b[0m\u001b[1;33m(\u001b[0m\u001b[0ma\u001b[0m\u001b[1;33m,\u001b[0m\u001b[0mb\u001b[0m\u001b[1;33m,\u001b[0m\u001b[0mc\u001b[0m\u001b[1;33m)\u001b[0m\u001b[1;33m:\u001b[0m\u001b[1;33m\u001b[0m\u001b[1;33m\u001b[0m\u001b[0m\n\u001b[0;32m      2\u001b[0m     \u001b[0md\u001b[0m\u001b[1;33m=\u001b[0m \u001b[0ma\u001b[0m\u001b[1;33m*\u001b[0m\u001b[0mb\u001b[0m\u001b[1;33m\u001b[0m\u001b[1;33m\u001b[0m\u001b[0m\n\u001b[1;32m----> 3\u001b[1;33m     \u001b[1;32mreturn\u001b[0m \u001b[0md\u001b[0m\u001b[1;33m/\u001b[0m\u001b[0mc\u001b[0m\u001b[1;33m\u001b[0m\u001b[1;33m\u001b[0m\u001b[0m\n\u001b[0m\u001b[0;32m      4\u001b[0m \u001b[0mmult_div\u001b[0m\u001b[1;33m(\u001b[0m\u001b[1;36m4\u001b[0m\u001b[1;33m,\u001b[0m\u001b[1;36m9\u001b[0m\u001b[1;33m,\u001b[0m\u001b[1;36m0\u001b[0m\u001b[1;33m)\u001b[0m\u001b[1;33m\u001b[0m\u001b[1;33m\u001b[0m\u001b[0m\n",
      "\u001b[1;31mZeroDivisionError\u001b[0m: division by zero"
     ]
    }
   ],
   "source": [
    "def mult_div(a,b,c):\n",
    "    d= a*b\n",
    "    return d/c\n",
    "mult_div(4,9,0)"
   ]
  },
  {
   "cell_type": "markdown",
   "metadata": {},
   "source": [
    "**Trabajando con funciones**\n",
    "\n",
    "* **Añade un control de excepciones Try/Except a la función div para controlar este tipo de error y comprueba su funcionamiento.**"
   ]
  },
  {
   "cell_type": "code",
   "execution_count": 21,
   "metadata": {},
   "outputs": [
    {
     "name": "stdout",
     "output_type": "stream",
     "text": [
      "NO SE PUEDE DIVIDIR POR 0\n"
     ]
    }
   ],
   "source": [
    "def mult_div(a,b,c):\n",
    "    try:\n",
    "        d= a*b\n",
    "        return d/c\n",
    "    except ZeroDivisionError:\n",
    "        print(\"NO SE PUEDE DIVIDIR POR 0\")\n",
    "        \n",
    "mult_div(4,9,0)"
   ]
  },
  {
   "cell_type": "markdown",
   "metadata": {},
   "source": [
    "* **Crea una función llamada *match_end* que tome como argumento una lista de strings y que devuelva el número de strings cuya longitud es de 2 o más caracteres y además que cumpla que el primer caracter coincida con el último**"
   ]
  },
  {
   "cell_type": "code",
   "execution_count": 45,
   "metadata": {},
   "outputs": [
    {
     "data": {
      "text/plain": [
       "1"
      ]
     },
     "execution_count": 45,
     "metadata": {},
     "output_type": "execute_result"
    }
   ],
   "source": [
    "\n",
    "letters = []\n",
    "def match_end(strList):\n",
    "    contador = 0\n",
    "    for str in strList:\n",
    "            if len(str) > 2 and str[0] == str[-1]:\n",
    "                 contador += 1\n",
    "            else:\n",
    "                 contador += 0\n",
    "    return contador\n",
    "                \n",
    "    \n",
    "match_end(['anaaaaa','juan','oroooo'])"
   ]
  },
  {
   "cell_type": "markdown",
   "metadata": {},
   "source": [
    "* **Crea una función llamada *inver* que tome como argumento una tupla e imprima por pantalla la lista con el orden inverso**"
   ]
  },
  {
   "cell_type": "code",
   "execution_count": 56,
   "metadata": {},
   "outputs": [
    {
     "name": "stdout",
     "output_type": "stream",
     "text": [
      "7\n",
      "6\n",
      "5\n",
      "4\n",
      "3\n",
      "2\n",
      "1\n"
     ]
    }
   ],
   "source": [
    "def inver(x):\n",
    "    for y in range(len(x),0,-1):\n",
    "        print(y)\n",
    "inver((1,2,3,4,5,6,7))"
   ]
  },
  {
   "cell_type": "markdown",
   "metadata": {},
   "source": [
    "***Define una función llamada *filter_list* que reciba dos argumentos: una lista de números y un número. Esta función debe devolver una lista formada por los números menores que el número dado como argumento ***"
   ]
  },
  {
   "cell_type": "code",
   "execution_count": 84,
   "metadata": {},
   "outputs": [
    {
     "data": {
      "text/plain": [
       "[2, 1]"
      ]
     },
     "execution_count": 84,
     "metadata": {},
     "output_type": "execute_result"
    }
   ],
   "source": [
    "def filter_list(x,y):\n",
    "    lista = []\n",
    "    for num in x:\n",
    "        if num < y:\n",
    "            lista.append(num)\n",
    "    return lista\n",
    "filter_list([2,4,5,1,7],4)"
   ]
  },
  {
   "cell_type": "markdown",
   "metadata": {},
   "source": [
    "* **Prueba la función creada.** \n",
    "** Pasalé como primer argumento la siguiente lista  [1,2,3,4,5,6] y el valor 3 como segundo"
   ]
  },
  {
   "cell_type": "code",
   "execution_count": 58,
   "metadata": {},
   "outputs": [
    {
     "data": {
      "text/plain": [
       "[1, 2]"
      ]
     },
     "execution_count": 58,
     "metadata": {},
     "output_type": "execute_result"
    }
   ],
   "source": [
    "filter_list([1,2,3,4,5,6],3)"
   ]
  },
  {
   "cell_type": "markdown",
   "metadata": {},
   "source": [
    "* **Escribir una función que tome un carácter y devuelva True si es una vocal, de lo contrario devuelva False.**"
   ]
  },
  {
   "cell_type": "code",
   "execution_count": 87,
   "metadata": {},
   "outputs": [
    {
     "name": "stdout",
     "output_type": "stream",
     "text": [
      "True\n"
     ]
    }
   ],
   "source": [
    "def vocal(x):\n",
    "    if x in ['a','e','i','o','u']:\n",
    "        print(True)\n",
    "    else:\n",
    "        print(False)\n",
    "vocal('a')"
   ]
  },
  {
   "cell_type": "markdown",
   "metadata": {},
   "source": [
    "* ** Definir una función es_palindromo() que reconoce palíndromos (es decir, palabras que tienen el mismo aspecto escritas invertidas), ejemplo: es_palindromo (\"radar\") tendría que devolver True.**"
   ]
  },
  {
   "cell_type": "code",
   "execution_count": 67,
   "metadata": {},
   "outputs": [
    {
     "name": "stdout",
     "output_type": "stream",
     "text": [
      "False\n"
     ]
    }
   ],
   "source": [
    "def es_palindromo(x):\n",
    "    if x == x[::-1]:\n",
    "        print(True)\n",
    "    else:\n",
    "        print(False)\n",
    "es_palindromo('radat')"
   ]
  },
  {
   "cell_type": "markdown",
   "metadata": {},
   "source": [
    "* **Definir una función llamada superposicion() que tome dos listas y devuelva una lista con los elementos en común, o bien, que indique que no hay contenido en común con texto.**\n"
   ]
  },
  {
   "cell_type": "code",
   "execution_count": 75,
   "metadata": {},
   "outputs": [
    {
     "data": {
      "text/plain": [
       "['b']"
      ]
     },
     "execution_count": 75,
     "metadata": {},
     "output_type": "execute_result"
    }
   ],
   "source": [
    "def superposicion(lista1,lista2):\n",
    "    lista3 = []\n",
    "    for a in lista1:\n",
    "        if a in lista2:\n",
    "            lista3.append(a)\n",
    "    if lista3 == []:\n",
    "        print('NO HAY CONTENIDO EN COMUN')\n",
    "    else:\n",
    "        return lista3\n",
    "superposicion(['a','b','c'],['r','y','b'])"
   ]
  },
  {
   "cell_type": "markdown",
   "metadata": {},
   "source": [
    "*** Para el desarrollo del ejercicio anterior podemos utilizar la el modulo \"*set*\". ***\n",
    "\n",
    "** Python también incluye un tipo de datos para conjuntos. Un conjunto es una colección desordenada sin elementos duplicados. Los usos básicos incluyen pruebas de membresía y eliminación de entradas duplicadas. Los objetos set también admiten operaciones matemáticas como unión, intersección, diferencia y diferencia simétrica.**\n",
    "\n",
    "Para aplicar la funcion escriba: **set(primera_lista)**\n",
    "\n",
    "Para identificar la intersección de dos conjuntos aplique: **set(primera_lista)&set(segunda_lista)***\n",
    "\n",
    "Podéis encontrar más información en la siguiente url: https://docs.python.org/3/tutorial/datastructures.html#sets\n"
   ]
  },
  {
   "cell_type": "code",
   "execution_count": 92,
   "metadata": {},
   "outputs": [
    {
     "name": "stdout",
     "output_type": "stream",
     "text": [
      "{'a'}\n"
     ]
    }
   ],
   "source": [
    "def superposicion(lista1,lista2):\n",
    "    a = set(lista1)\n",
    "    b = set(lista2) \n",
    "    if a & b:\n",
    "        print(a&b)\n",
    "    else:\n",
    "        print('NO HAY CONTENIDO EN COMUN')\n",
    "superposicion(['a','b','c'],['r','a','b'])"
   ]
  },
  {
   "cell_type": "code",
   "execution_count": null,
   "metadata": {},
   "outputs": [],
   "source": []
  }
 ],
 "metadata": {
  "kernelspec": {
   "display_name": "Python 3",
   "language": "python",
   "name": "python3"
  },
  "language_info": {
   "codemirror_mode": {
    "name": "ipython",
    "version": 3
   },
   "file_extension": ".py",
   "mimetype": "text/x-python",
   "name": "python",
   "nbconvert_exporter": "python",
   "pygments_lexer": "ipython3",
   "version": "3.7.3"
  }
 },
 "nbformat": 4,
 "nbformat_minor": 2
}
